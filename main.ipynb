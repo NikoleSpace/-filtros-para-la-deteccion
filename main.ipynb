{
 "cells": [
  {
   "cell_type": "code",
   "execution_count": 3,
   "id": "initial_id",
   "metadata": {
    "collapsed": true,
    "ExecuteTime": {
     "end_time": "2023-09-24T18:55:12.422501200Z",
     "start_time": "2023-09-24T18:55:09.824451Z"
    }
   },
   "outputs": [
    {
     "name": "stderr",
     "output_type": "stream",
     "text": [
      "ERROR: Invalid requirement: '=='\n"
     ]
    }
   ],
   "source": [
    "!pip install Pillow == 9.3.0"
   ]
  },
  {
   "cell_type": "code",
   "execution_count": 21,
   "outputs": [
    {
     "name": "stderr",
     "output_type": "stream",
     "text": [
      "Downloading...\n",
      "From: https://drive.google.com/uc?id=10r30BCTpFPX9Wg1ROqIjq46PsROPWpm1\n",
      "To: C:\\Users\\NIKOLE\\PycharmProjects\\Filtros_para_la_Deteccion\\video_4.mp4\n",
      "\n",
      "  0%|          | 0.00/9.81M [00:00<?, ?B/s]\n",
      "  5%|5         | 524k/9.81M [00:00<00:09, 935kB/s]\n",
      " 11%|#         | 1.05M/9.81M [00:01<00:09, 944kB/s]\n",
      " 16%|#6        | 1.57M/9.81M [00:01<00:08, 938kB/s]\n",
      " 21%|##1       | 2.10M/9.81M [00:02<00:08, 939kB/s]\n",
      " 27%|##6       | 2.62M/9.81M [00:02<00:07, 932kB/s]\n",
      " 32%|###2      | 3.15M/9.81M [00:03<00:07, 927kB/s]\n",
      " 37%|###7      | 3.67M/9.81M [00:03<00:06, 941kB/s]\n",
      " 43%|####2     | 4.19M/9.81M [00:04<00:05, 946kB/s]\n",
      " 48%|####8     | 4.72M/9.81M [00:05<00:05, 912kB/s]\n",
      " 53%|#####3    | 5.24M/9.81M [00:05<00:04, 942kB/s]\n",
      " 59%|#####8    | 5.77M/9.81M [00:06<00:04, 948kB/s]\n",
      " 64%|######4   | 6.29M/9.81M [00:06<00:03, 971kB/s]\n",
      " 69%|######9   | 6.82M/9.81M [00:07<00:03, 973kB/s]\n",
      " 75%|#######4  | 7.34M/9.81M [00:07<00:02, 983kB/s]\n",
      " 80%|########  | 7.86M/9.81M [00:08<00:01, 990kB/s]\n",
      " 85%|########5 | 8.39M/9.81M [00:08<00:01, 945kB/s]\n",
      " 91%|######### | 8.91M/9.81M [00:09<00:00, 913kB/s]\n",
      " 96%|#########6| 9.44M/9.81M [00:10<00:00, 915kB/s]\n",
      "100%|##########| 9.81M/9.81M [00:10<00:00, 938kB/s]\n",
      "100%|##########| 9.81M/9.81M [00:10<00:00, 943kB/s]\n"
     ]
    }
   ],
   "source": [
    "!gdown 10r30BCTpFPX9Wg1ROqIjq46PsROPWpm1"
   ],
   "metadata": {
    "collapsed": false,
    "ExecuteTime": {
     "end_time": "2023-09-24T20:12:25.161500700Z",
     "start_time": "2023-09-24T20:12:08.327845600Z"
    }
   },
   "id": "49a1fd9affb833f9"
  },
  {
   "cell_type": "code",
   "execution_count": 3,
   "outputs": [],
   "source": [
    "import numpy as np\n",
    "import matplotlib.pyplot as plt\n",
    "from scipy import spatial\n",
    "from PIL import Image\n",
    "import imageio\n",
    "import IPython\n",
    "import skimage.io\n",
    "\n",
    "import cv2\n",
    "import os"
   ],
   "metadata": {
    "collapsed": false,
    "ExecuteTime": {
     "end_time": "2023-09-24T19:37:58.725272200Z",
     "start_time": "2023-09-24T19:37:58.678270300Z"
    }
   },
   "id": "f30f54dbf2f1680f"
  },
  {
   "cell_type": "code",
   "execution_count": 37,
   "outputs": [],
   "source": [
    "# colocar el nombre del video aquí!\n",
    "name = 'video_4'"
   ],
   "metadata": {
    "collapsed": false,
    "ExecuteTime": {
     "end_time": "2023-09-24T20:20:26.820959500Z",
     "start_time": "2023-09-24T20:20:26.797432700Z"
    }
   },
   "id": "ff01439674669449"
  },
  {
   "cell_type": "code",
   "execution_count": 38,
   "outputs": [],
   "source": [
    "# Importar vídeo\n",
    "cap = cv2.VideoCapture(name)"
   ],
   "metadata": {
    "collapsed": false,
    "ExecuteTime": {
     "end_time": "2023-09-24T20:20:28.241943200Z",
     "start_time": "2023-09-24T20:20:28.177936100Z"
    }
   },
   "id": "6f23d1cff5ff3a83"
  },
  {
   "cell_type": "code",
   "execution_count": 39,
   "outputs": [],
   "source": [
    "# Recorre todos los fotogramas del vídeo\n",
    "def counti(cap):\n",
    "    # Contador de personas\n",
    "    contador = 0\n",
    "    \n",
    "    while cap.isOpened():\n",
    "        # Lee un fotograma\n",
    "        ret, frame = cap.read()\n",
    "        \n",
    "        # Convertimos el vídeo a escala de grises\n",
    "        gray_frame = cv2.cvtColor(frame, cv2.COLOR_BGR2GRAY)\n",
    "        \n",
    "        # Aplicamos un umbral\n",
    "        ret, thresh = cv2.threshold(gray_frame, 127, 255, cv2.THRESH_BINARY)\n",
    "        \n",
    "        # Detecta los contornos de las personas\n",
    "        contornos, _ = cv2.findContours(thresh, cv2.RETR_EXTERNAL, cv2.CHAIN_APPROX_SIMPLE)\n",
    "        \n",
    "        # Eliminamos los contornos pequeños\n",
    "        contornos = [c for c in contornos if cv2.contourArea(c) > 100]\n",
    "        \n",
    "        # Cuenta el número de contornos\n",
    "        contador += len(contornos)\n",
    "        \n",
    "        # Muestra el número de personas\n",
    "        cv2.putText(frame, f\"Personas: {contador}\", (10, 20), cv2.FONT_HERSHEY_SIMPLEX, 0.5, (0, 0, 255))\n",
    "        \n",
    "        # Muestra el fotograma\n",
    "        cv2.imshow(\"Video\", frame)\n",
    "        \n",
    "        # Espera una tecla\n",
    "        key = cv2.waitKey(1)\n",
    "        \n",
    "        # Cierra el vídeo si se pulsa la tecla ESC\n",
    "        if key == 27:\n",
    "            break\n",
    "    # Cierra el vídeo\n",
    "    cap.release()\n",
    "    # Destruye todas las ventanas abiertas\n",
    "    cv2.destroyAllWindows()\n",
    "    return contador"
   ],
   "metadata": {
    "collapsed": false,
    "ExecuteTime": {
     "end_time": "2023-09-24T20:20:28.601960700Z",
     "start_time": "2023-09-24T20:20:28.568963200Z"
    }
   },
   "id": "12154b0da758b72e"
  },
  {
   "cell_type": "code",
   "execution_count": 40,
   "outputs": [
    {
     "name": "stdout",
     "output_type": "stream",
     "text": [
      "Se contaron un total de 0\n"
     ]
    }
   ],
   "source": [
    "c=counti(cap)\n",
    "print(\"Se contaron un total de \"+str(c))"
   ],
   "metadata": {
    "collapsed": false,
    "ExecuteTime": {
     "end_time": "2023-09-24T20:20:29.312401100Z",
     "start_time": "2023-09-24T20:20:29.244410200Z"
    }
   },
   "id": "a68414cc317cf9cf"
  },
  {
   "cell_type": "code",
   "execution_count": 24,
   "outputs": [],
   "source": [],
   "metadata": {
    "collapsed": false,
    "ExecuteTime": {
     "end_time": "2023-09-24T20:12:51.674935100Z",
     "start_time": "2023-09-24T20:12:51.622940800Z"
    }
   },
   "id": "36cdf9d4502c6f2f"
  },
  {
   "cell_type": "code",
   "execution_count": null,
   "outputs": [],
   "source": [],
   "metadata": {
    "collapsed": false
   },
   "id": "a64d3769897a263d"
  }
 ],
 "metadata": {
  "kernelspec": {
   "display_name": "Python 3",
   "language": "python",
   "name": "python3"
  },
  "language_info": {
   "codemirror_mode": {
    "name": "ipython",
    "version": 2
   },
   "file_extension": ".py",
   "mimetype": "text/x-python",
   "name": "python",
   "nbconvert_exporter": "python",
   "pygments_lexer": "ipython2",
   "version": "2.7.6"
  }
 },
 "nbformat": 4,
 "nbformat_minor": 5
}
