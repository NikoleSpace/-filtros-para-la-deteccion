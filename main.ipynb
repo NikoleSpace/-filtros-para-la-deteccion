{
 "cells": [
  {
   "cell_type": "code",
   "execution_count": 3,
   "id": "initial_id",
   "metadata": {
    "collapsed": true,
    "ExecuteTime": {
     "end_time": "2023-09-24T18:55:12.422501200Z",
     "start_time": "2023-09-24T18:55:09.824451Z"
    }
   },
   "outputs": [
    {
     "name": "stderr",
     "output_type": "stream",
     "text": [
      "ERROR: Invalid requirement: '=='\n"
     ]
    }
   ],
   "source": [
    "!pip install Pillow == 9.3.0"
   ]
  },
  {
   "cell_type": "code",
   "execution_count": 2,
   "outputs": [
    {
     "name": "stderr",
     "output_type": "stream",
     "text": [
      "Downloading...\n",
      "From: https://drive.google.com/uc?id=10fKGTNjlqhAdLaab0w1yojVhNp1nORv4\n",
      "To: C:\\Users\\NIKOLE\\PycharmProjects\\Filtros_para_la_Deteccion\\video_2.mp4\n",
      "\n",
      "  0%|          | 0.00/2.45M [00:00<?, ?B/s]\n",
      " 21%|##1       | 524k/2.45M [00:00<00:02, 938kB/s]\n",
      " 43%|####2     | 1.05M/2.45M [00:01<00:01, 959kB/s]\n",
      " 64%|######4   | 1.57M/2.45M [00:01<00:00, 983kB/s]\n",
      " 85%|########5 | 2.10M/2.45M [00:02<00:00, 976kB/s]\n",
      "100%|##########| 2.45M/2.45M [00:02<00:00, 978kB/s]\n",
      "100%|##########| 2.45M/2.45M [00:02<00:00, 973kB/s]\n"
     ]
    }
   ],
   "source": [
    "!gdown 10fKGTNjlqhAdLaab0w1yojVhNp1nORv4"
   ],
   "metadata": {
    "collapsed": false,
    "ExecuteTime": {
     "end_time": "2023-09-24T19:37:29.100787700Z",
     "start_time": "2023-09-24T19:37:21.641076800Z"
    }
   },
   "id": "49a1fd9affb833f9"
  },
  {
   "cell_type": "code",
   "execution_count": 3,
   "outputs": [],
   "source": [
    "import numpy as np\n",
    "import matplotlib.pyplot as plt\n",
    "from scipy import spatial\n",
    "from PIL import Image\n",
    "import imageio\n",
    "import IPython\n",
    "import skimage.io\n",
    "\n",
    "import cv2\n",
    "import os"
   ],
   "metadata": {
    "collapsed": false,
    "ExecuteTime": {
     "end_time": "2023-09-24T19:37:58.725272200Z",
     "start_time": "2023-09-24T19:37:58.678270300Z"
    }
   },
   "id": "f30f54dbf2f1680f"
  },
  {
   "cell_type": "code",
   "execution_count": 4,
   "outputs": [],
   "source": [
    "# colocar el nombre del video aquí!\n",
    "name = 'video_2'"
   ],
   "metadata": {
    "collapsed": false,
    "ExecuteTime": {
     "end_time": "2023-09-24T19:38:39.139053900Z",
     "start_time": "2023-09-24T19:38:39.108050100Z"
    }
   },
   "id": "ff01439674669449"
  },
  {
   "cell_type": "code",
   "execution_count": null,
   "outputs": [],
   "source": [],
   "metadata": {
    "collapsed": false
   },
   "id": "12154b0da758b72e"
  }
 ],
 "metadata": {
  "kernelspec": {
   "display_name": "Python 3",
   "language": "python",
   "name": "python3"
  },
  "language_info": {
   "codemirror_mode": {
    "name": "ipython",
    "version": 2
   },
   "file_extension": ".py",
   "mimetype": "text/x-python",
   "name": "python",
   "nbconvert_exporter": "python",
   "pygments_lexer": "ipython2",
   "version": "2.7.6"
  }
 },
 "nbformat": 4,
 "nbformat_minor": 5
}
