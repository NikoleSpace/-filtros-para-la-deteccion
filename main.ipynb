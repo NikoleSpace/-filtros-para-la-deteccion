{
 "cells": [
  {
   "cell_type": "code",
   "execution_count": null,
   "id": "initial_id",
   "metadata": {
    "collapsed": true,
    "is_executing": true
   },
   "outputs": [],
   "source": [
    "!pip install Pillow == 9.3.0"
   ]
  },
  {
   "cell_type": "code",
   "execution_count": 2,
   "outputs": [
    {
     "name": "stderr",
     "output_type": "stream",
     "text": [
      "Downloading...\n",
      "From: https://drive.google.com/uc?id=16i82s1l5QAOevu7k1VQXbf4bkcHiX2gA\n",
      "To: C:\\Users\\NIKOLE\\PycharmProjects\\Filtros_para_la_Deteccion\\45 segundos.mp4\n",
      "\n",
      "  0%|          | 0.00/48.5M [00:00<?, ?B/s]\n",
      "  1%|1         | 524k/48.5M [00:00<00:50, 958kB/s]\n",
      "  2%|2         | 1.05M/48.5M [00:01<00:53, 889kB/s]\n",
      "  3%|3         | 1.57M/48.5M [00:01<00:51, 903kB/s]\n",
      "  4%|4         | 2.10M/48.5M [00:02<00:49, 931kB/s]\n",
      "  5%|5         | 2.62M/48.5M [00:02<00:49, 930kB/s]\n",
      "  6%|6         | 3.15M/48.5M [00:03<00:48, 926kB/s]\n",
      "  8%|7         | 3.67M/48.5M [00:04<00:49, 899kB/s]\n",
      "  9%|8         | 4.19M/48.5M [00:04<00:49, 888kB/s]\n",
      " 10%|9         | 4.72M/48.5M [00:05<00:48, 895kB/s]\n",
      " 11%|#         | 5.24M/48.5M [00:05<00:50, 855kB/s]\n",
      " 12%|#1        | 5.77M/48.5M [00:06<00:49, 859kB/s]\n",
      " 13%|#2        | 6.29M/48.5M [00:07<00:47, 886kB/s]\n",
      " 14%|#4        | 6.82M/48.5M [00:07<00:46, 902kB/s]\n",
      " 15%|#5        | 7.34M/48.5M [00:08<00:44, 915kB/s]\n",
      " 16%|#6        | 7.86M/48.5M [00:08<00:43, 932kB/s]\n",
      " 17%|#7        | 8.39M/48.5M [00:09<00:45, 891kB/s]\n",
      " 18%|#8        | 8.91M/48.5M [00:09<00:42, 924kB/s]\n",
      " 19%|#9        | 9.44M/48.5M [00:10<00:41, 935kB/s]\n",
      " 21%|##        | 9.96M/48.5M [00:10<00:40, 944kB/s]\n",
      " 22%|##1       | 10.5M/48.5M [00:11<00:39, 961kB/s]\n",
      " 23%|##2       | 11.0M/48.5M [00:12<00:39, 951kB/s]\n",
      " 24%|##3       | 11.5M/48.5M [00:12<00:38, 953kB/s]\n",
      " 25%|##4       | 12.1M/48.5M [00:13<00:38, 935kB/s]\n",
      " 26%|##5       | 12.6M/48.5M [00:13<00:39, 915kB/s]\n",
      " 27%|##7       | 13.1M/48.5M [00:14<00:38, 915kB/s]\n",
      " 28%|##8       | 13.6M/48.5M [00:14<00:38, 897kB/s]\n",
      " 29%|##9       | 14.2M/48.5M [00:15<00:38, 894kB/s]\n",
      " 30%|###       | 14.7M/48.5M [00:16<00:38, 883kB/s]\n",
      " 31%|###1      | 15.2M/48.5M [00:16<00:39, 834kB/s]\n",
      " 32%|###2      | 15.7M/48.5M [00:17<00:37, 865kB/s]\n",
      " 34%|###3      | 16.3M/48.5M [00:18<00:37, 865kB/s]\n",
      " 35%|###4      | 16.8M/48.5M [00:18<00:35, 882kB/s]\n",
      " 36%|###5      | 17.3M/48.5M [00:19<00:34, 902kB/s]\n",
      " 37%|###6      | 17.8M/48.5M [00:19<00:34, 890kB/s]\n",
      " 38%|###7      | 18.4M/48.5M [00:20<00:34, 882kB/s]\n",
      " 39%|###8      | 18.9M/48.5M [00:20<00:33, 875kB/s]\n",
      " 40%|####      | 19.4M/48.5M [00:21<00:34, 837kB/s]\n",
      " 41%|####1     | 19.9M/48.5M [00:22<00:32, 872kB/s]\n",
      " 42%|####2     | 20.4M/48.5M [00:22<00:31, 880kB/s]\n",
      " 43%|####3     | 21.0M/48.5M [00:23<00:30, 900kB/s]\n",
      " 44%|####4     | 21.5M/48.5M [00:23<00:29, 907kB/s]\n",
      " 45%|####5     | 22.0M/48.5M [00:24<00:29, 907kB/s]\n",
      " 46%|####6     | 22.5M/48.5M [00:25<00:28, 924kB/s]\n",
      " 48%|####7     | 23.1M/48.5M [00:25<00:27, 924kB/s]\n",
      " 49%|####8     | 23.6M/48.5M [00:26<00:27, 898kB/s]\n",
      " 50%|####9     | 24.1M/48.5M [00:26<00:27, 881kB/s]\n",
      " 51%|#####     | 24.6M/48.5M [00:27<00:26, 893kB/s]\n",
      " 52%|#####1    | 25.2M/48.5M [00:27<00:25, 904kB/s]\n",
      " 53%|#####2    | 25.7M/48.5M [00:28<00:25, 884kB/s]\n",
      " 54%|#####4    | 26.2M/48.5M [00:29<00:26, 846kB/s]\n",
      " 55%|#####5    | 26.7M/48.5M [00:29<00:25, 856kB/s]\n",
      " 56%|#####6    | 27.3M/48.5M [00:30<00:24, 878kB/s]\n",
      " 57%|#####7    | 27.8M/48.5M [00:31<00:23, 873kB/s]\n",
      " 58%|#####8    | 28.3M/48.5M [00:31<00:23, 842kB/s]\n",
      " 59%|#####9    | 28.8M/48.5M [00:32<00:23, 845kB/s]\n",
      " 61%|######    | 29.4M/48.5M [00:32<00:22, 859kB/s]\n",
      " 62%|######1   | 29.9M/48.5M [00:33<00:21, 870kB/s]\n",
      " 63%|######2   | 30.4M/48.5M [00:34<00:20, 903kB/s]\n",
      " 64%|######3   | 30.9M/48.5M [00:34<00:19, 917kB/s]\n",
      " 65%|######4   | 31.5M/48.5M [00:35<00:18, 908kB/s]\n",
      " 66%|######5   | 32.0M/48.5M [00:35<00:18, 915kB/s]\n",
      " 67%|######7   | 32.5M/48.5M [00:36<00:17, 924kB/s]\n",
      " 68%|######8   | 33.0M/48.5M [00:36<00:16, 942kB/s]\n",
      " 69%|######9   | 33.6M/48.5M [00:37<00:15, 964kB/s]\n",
      " 70%|#######   | 34.1M/48.5M [00:37<00:15, 953kB/s]\n",
      " 71%|#######1  | 34.6M/48.5M [00:38<00:14, 960kB/s]\n",
      " 72%|#######2  | 35.1M/48.5M [00:38<00:14, 949kB/s]\n",
      " 74%|#######3  | 35.7M/48.5M [00:39<00:14, 898kB/s]\n",
      " 75%|#######4  | 36.2M/48.5M [00:40<00:13, 906kB/s]\n",
      " 76%|#######5  | 36.7M/48.5M [00:40<00:12, 923kB/s]\n",
      " 77%|#######6  | 37.2M/48.5M [00:41<00:11, 942kB/s]\n",
      " 78%|#######7  | 37.7M/48.5M [00:41<00:11, 940kB/s]\n",
      " 79%|#######8  | 38.3M/48.5M [00:42<00:10, 942kB/s]\n",
      " 80%|########  | 38.8M/48.5M [00:42<00:10, 954kB/s]\n",
      " 81%|########1 | 39.3M/48.5M [00:43<00:09, 953kB/s]\n",
      " 82%|########2 | 39.8M/48.5M [00:44<00:09, 960kB/s]\n",
      " 83%|########3 | 40.4M/48.5M [00:44<00:08, 955kB/s]\n",
      " 84%|########4 | 40.9M/48.5M [00:45<00:07, 965kB/s]\n",
      " 85%|########5 | 41.4M/48.5M [00:45<00:07, 894kB/s]\n",
      " 86%|########6 | 41.9M/48.5M [00:46<00:07, 894kB/s]\n",
      " 88%|########7 | 42.5M/48.5M [00:46<00:06, 899kB/s]\n",
      " 89%|########8 | 43.0M/48.5M [00:47<00:05, 922kB/s]\n",
      " 90%|########9 | 43.5M/48.5M [00:48<00:05, 951kB/s]\n",
      " 91%|######### | 44.0M/48.5M [00:48<00:04, 965kB/s]\n",
      " 92%|#########1| 44.6M/48.5M [00:49<00:04, 968kB/s]\n",
      " 93%|#########2| 45.1M/48.5M [00:49<00:03, 977kB/s]\n",
      " 94%|#########4| 45.6M/48.5M [00:50<00:02, 986kB/s]\n",
      " 95%|#########5| 46.1M/48.5M [00:50<00:02, 978kB/s]\n",
      " 96%|#########6| 46.7M/48.5M [00:51<00:01, 933kB/s]\n",
      " 97%|#########7| 47.2M/48.5M [00:51<00:01, 940kB/s]\n",
      " 98%|#########8| 47.7M/48.5M [00:52<00:00, 958kB/s]\n",
      " 99%|#########9| 48.2M/48.5M [00:52<00:00, 971kB/s]\n",
      "100%|##########| 48.5M/48.5M [00:53<00:00, 966kB/s]\n",
      "100%|##########| 48.5M/48.5M [00:53<00:00, 912kB/s]\n"
     ]
    }
   ],
   "source": [
    "!gdown 16i82s1l5QAOevu7k1VQXbf4bkcHiX2gA"
   ],
   "metadata": {
    "collapsed": false,
    "ExecuteTime": {
     "end_time": "2023-09-27T00:56:01.733729600Z",
     "start_time": "2023-09-27T00:55:00.893019900Z"
    }
   },
   "id": "49a1fd9affb833f9"
  },
  {
   "cell_type": "code",
   "execution_count": 3,
   "outputs": [],
   "source": [
    "import numpy as np\n",
    "import matplotlib.pyplot as plt\n",
    "from scipy import spatial\n",
    "from PIL import Image\n",
    "import imageio\n",
    "import IPython\n",
    "import skimage.io\n",
    "\n",
    "\n",
    "import os"
   ],
   "metadata": {
    "collapsed": false,
    "ExecuteTime": {
     "end_time": "2023-09-24T19:37:58.725272200Z",
     "start_time": "2023-09-24T19:37:58.678270300Z"
    }
   },
   "id": "f30f54dbf2f1680f"
  },
  {
   "cell_type": "code",
   "execution_count": 3,
   "outputs": [],
   "source": [
    "import cv2"
   ],
   "metadata": {
    "collapsed": false,
    "ExecuteTime": {
     "end_time": "2023-09-27T00:56:34.236821900Z",
     "start_time": "2023-09-27T00:56:33.335425900Z"
    }
   },
   "id": "4d5fb1ef989a8cde"
  },
  {
   "cell_type": "code",
   "execution_count": 4,
   "outputs": [],
   "source": [
    "# colocar el nombre del video aquí!\n",
    "name = '45 segundos'"
   ],
   "metadata": {
    "collapsed": false,
    "ExecuteTime": {
     "end_time": "2023-09-27T00:56:55.182094700Z",
     "start_time": "2023-09-27T00:56:55.163631300Z"
    }
   },
   "id": "ff01439674669449"
  },
  {
   "cell_type": "code",
   "execution_count": 5,
   "outputs": [],
   "source": [
    "# Importar vídeo\n",
    "cap = cv2.VideoCapture(name)"
   ],
   "metadata": {
    "collapsed": false,
    "ExecuteTime": {
     "end_time": "2023-09-27T00:56:57.291786900Z",
     "start_time": "2023-09-27T00:56:57.180687200Z"
    }
   },
   "id": "6f23d1cff5ff3a83"
  },
  {
   "cell_type": "code",
   "execution_count": 7,
   "outputs": [],
   "source": [
    "# Recorre todos los fotogramas del vídeo\n",
    "def counti(cap):\n",
    "    # Contador de personas\n",
    "    contador = 0\n",
    "    \n",
    "    while cap.isOpened():\n",
    "        # Lee un fotograma\n",
    "        ret, frame = cap.read()\n",
    "        \n",
    "        # Convertimos el vídeo a escala de grises\n",
    "        gray_frame = cv2.cvtColor(frame, cv2.COLOR_BGR2GRAY)\n",
    "        \n",
    "        # Aplicamos un umbral\n",
    "        ret, thresh = cv2.threshold(gray_frame, 127, 255, cv2.THRESH_BINARY)\n",
    "        \n",
    "        # Detecta los contornos de las personas\n",
    "        contornos, _ = cv2.findContours(thresh, cv2.RETR_EXTERNAL, cv2.CHAIN_APPROX_SIMPLE)\n",
    "        \n",
    "        # Eliminamos los contornos pequeños\n",
    "        contornos = [c for c in contornos if cv2.contourArea(c) > 100]\n",
    "        \n",
    "        # Cuenta el número de contornos\n",
    "        contador += len(contornos)\n",
    "        \n",
    "        # Muestra el número de personas\n",
    "        cv2.putText(frame, f\"Personas: {contador}\", (10, 20), cv2.FONT_HERSHEY_SIMPLEX, 0.5, (0, 0, 255))\n",
    "        \n",
    "        # Muestra el fotograma\n",
    "        cv2.imshow(\"Video\", frame)\n",
    "        \n",
    "        # Espera una tecla\n",
    "        key = cv2.waitKey(1)\n",
    "        \n",
    "        # Cierra el vídeo si se pulsa la tecla ESC\n",
    "        if key == 27:\n",
    "            break\n",
    "    # Cierra el vídeo\n",
    "    cap.release()\n",
    "    # Destruye todas las ventanas abiertas\n",
    "    cv2.destroyAllWindows()\n",
    "    return contador"
   ],
   "metadata": {
    "collapsed": false,
    "ExecuteTime": {
     "end_time": "2023-09-27T00:57:05.454430900Z",
     "start_time": "2023-09-27T00:57:05.420017600Z"
    }
   },
   "id": "12154b0da758b72e"
  },
  {
   "cell_type": "code",
   "execution_count": 8,
   "outputs": [
    {
     "name": "stdout",
     "output_type": "stream",
     "text": [
      "Se contaron un total de 0\n"
     ]
    }
   ],
   "source": [
    "c=counti(cap)\n",
    "print(\"Se contaron un total de \"+str(c))"
   ],
   "metadata": {
    "collapsed": false,
    "ExecuteTime": {
     "end_time": "2023-09-27T00:57:06.867371800Z",
     "start_time": "2023-09-27T00:57:06.810990700Z"
    }
   },
   "id": "a68414cc317cf9cf"
  },
  {
   "cell_type": "code",
   "execution_count": 24,
   "outputs": [],
   "source": [],
   "metadata": {
    "collapsed": false,
    "ExecuteTime": {
     "end_time": "2023-09-24T20:12:51.674935100Z",
     "start_time": "2023-09-24T20:12:51.622940800Z"
    }
   },
   "id": "36cdf9d4502c6f2f"
  },
  {
   "cell_type": "code",
   "execution_count": null,
   "outputs": [],
   "source": [],
   "metadata": {
    "collapsed": false
   },
   "id": "a64d3769897a263d"
  }
 ],
 "metadata": {
  "kernelspec": {
   "display_name": "Python 3",
   "language": "python",
   "name": "python3"
  },
  "language_info": {
   "codemirror_mode": {
    "name": "ipython",
    "version": 2
   },
   "file_extension": ".py",
   "mimetype": "text/x-python",
   "name": "python",
   "nbconvert_exporter": "python",
   "pygments_lexer": "ipython2",
   "version": "2.7.6"
  }
 },
 "nbformat": 4,
 "nbformat_minor": 5
}
